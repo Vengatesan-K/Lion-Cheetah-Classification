{
 "cells": [
  {
   "cell_type": "code",
   "execution_count": 1,
   "metadata": {},
   "outputs": [],
   "source": [
    "import os"
   ]
  },
  {
   "cell_type": "code",
   "execution_count": 2,
   "metadata": {},
   "outputs": [
    {
     "data": {
      "text/plain": [
       "'c:\\\\Users\\\\VENKA\\\\Desktop\\\\Data Science\\\\Project\\\\surface_crack\\\\Surface-Crack-Detection\\\\research'"
      ]
     },
     "execution_count": 2,
     "metadata": {},
     "output_type": "execute_result"
    }
   ],
   "source": [
    "%pwd"
   ]
  },
  {
   "cell_type": "code",
   "execution_count": 3,
   "metadata": {},
   "outputs": [],
   "source": [
    "os.chdir(\"../\")"
   ]
  },
  {
   "cell_type": "code",
   "execution_count": 4,
   "metadata": {},
   "outputs": [
    {
     "data": {
      "text/plain": [
       "'c:\\\\Users\\\\VENKA\\\\Desktop\\\\Data Science\\\\Project\\\\surface_crack\\\\Surface-Crack-Detection'"
      ]
     },
     "execution_count": 4,
     "metadata": {},
     "output_type": "execute_result"
    }
   ],
   "source": [
    "%pwd"
   ]
  },
  {
   "cell_type": "code",
   "execution_count": 5,
   "metadata": {},
   "outputs": [],
   "source": [
    "from dataclasses import dataclass\n",
    "from pathlib import Path\n",
    "\n",
    "@dataclass(frozen=True)\n",
    "class TrainingConfig:\n",
    "    root_dir: Path\n",
    "    trained_model_path: Path\n",
    "    updated_base_model_path: Path\n",
    "    training_data: Path\n",
    "    params_epochs: int\n",
    "    params_batch_size: int\n",
    "    params_is_augmentation: bool\n",
    "    params_image_size: list\n",
    "    \n",
    "@dataclass(frozen=True)\n",
    "class PrepareCallbacksConfig:\n",
    "    root_dir: Path\n",
    "    tensorboard_root_log_dir: Path\n",
    "    checkpoint_model_filepath: Path"
   ]
  },
  {
   "cell_type": "code",
   "execution_count": 6,
   "metadata": {},
   "outputs": [],
   "source": [
    "from cnnClassifier.constants import *\n",
    "from cnnClassifier.utils.common import read_yaml, create_directories\n",
    "import tensorflow as tf"
   ]
  },
  {
   "cell_type": "code",
   "execution_count": 7,
   "metadata": {},
   "outputs": [],
   "source": [
    "class ConfigurationManager:\n",
    "    def __init__(\n",
    "        self,\n",
    "        config_filepath = CONFIG_FILE_PATH,\n",
    "        params_filepath = PARAMS_FILE_PATH):\n",
    "        self.config = read_yaml(config_filepath)\n",
    "        self.params = read_yaml(params_filepath)\n",
    "        create_directories([self.config.artifacts_root])\n",
    "\n",
    "    def get_prepare_callback_config(self) -> PrepareCallbacksConfig:\n",
    "        config = self.config.prepare_callbacks\n",
    "        model_ckpt_dir = os.path.dirname(config.checkpoint_model_filepath)\n",
    "        create_directories([\n",
    "            Path(model_ckpt_dir),\n",
    "            Path(config.tensorboard_root_log_dir)\n",
    "        ])\n",
    "\n",
    "        prepare_callback_config = PrepareCallbacksConfig(\n",
    "            root_dir=Path(config.root_dir),\n",
    "            tensorboard_root_log_dir=Path(config.tensorboard_root_log_dir),\n",
    "            checkpoint_model_filepath=Path(config.checkpoint_model_filepath)\n",
    "        )\n",
    "        \n",
    "        return prepare_callback_config \n",
    "    \n",
    "    def get_training_config(self) -> TrainingConfig:\n",
    "        training = self.config.training\n",
    "        prepare_base_model = self.config.prepare_base_model\n",
    "        params = self.params\n",
    "        training_data = os.path.join(self.config.data_ingestion.unzip_dir, \"images\")\n",
    "        create_directories([\n",
    "            Path(training.root_dir)\n",
    "        ])\n",
    "\n",
    "        training_config = TrainingConfig(\n",
    "            root_dir=Path(training.root_dir),\n",
    "            trained_model_path=Path(training.trained_model_path),\n",
    "            updated_base_model_path=Path(prepare_base_model.updated_base_model_path),\n",
    "            training_data=Path(training_data),\n",
    "            params_epochs=params.EPOCHS,\n",
    "            params_batch_size=params.BATCH_SIZE,\n",
    "            params_is_augmentation=params.AUGMENTATION,\n",
    "            params_image_size=params.IMAGE_SIZE\n",
    "        )\n",
    "\n",
    "        return training_config\n",
    "    "
   ]
  },
  {
   "cell_type": "code",
   "execution_count": 8,
   "metadata": {},
   "outputs": [],
   "source": [
    "import time\n",
    "\n",
    "\n"
   ]
  },
  {
   "cell_type": "code",
   "execution_count": 9,
   "metadata": {},
   "outputs": [],
   "source": [
    "    \n",
    "\n",
    "class PrepareCallback:\n",
    "    def __init__(self, config: PrepareCallbacksConfig):\n",
    "        self.config = config\n",
    "      \n",
    "    def _create_tb_callbacks(self):\n",
    "        timestamp = time.strftime(\"%Y-%m-%d-%H-%M-%S\")\n",
    "        tb_running_log_dir = os.path.join(\n",
    "            str(self.config.tensorboard_root_log_dir),  # Convert WindowsPath to string\n",
    "            f\"tb_logs_at_{timestamp}\",\n",
    "        )\n",
    "        return tf.keras.callbacks.TensorBoard(log_dir=tb_running_log_dir)\n",
    "\n",
    "    def _create_ckpt_callbacks(self):\n",
    "        checkpoint_dir_str = str(self.config.checkpoint_model_filepath)  # Convert WindowsPath to string\n",
    "        if checkpoint_dir_str.endswith('.h5'):\n",
    "            return tf.keras.callbacks.ModelCheckpoint(\n",
    "                filepath=checkpoint_dir_str,\n",
    "                save_best_only=True\n",
    "            )\n",
    "        else:\n",
    "            raise ValueError(\"Invalid checkpoint model filepath\")\n",
    "\n",
    "    def get_tb_ckpt_callbacks(self):\n",
    "        return [\n",
    "            self._create_tb_callbacks(),\n",
    "            self._create_ckpt_callbacks()\n",
    "        ]\n"
   ]
  },
  {
   "cell_type": "code",
   "execution_count": 10,
   "metadata": {},
   "outputs": [],
   "source": [
    "import os \n",
    "import urllib.request as request\n",
    "import zipfile as zipfile\n",
    "import tensorflow as tf\n",
    "import time"
   ]
  },
  {
   "cell_type": "code",
   "execution_count": 11,
   "metadata": {},
   "outputs": [],
   "source": [
    "class Training:\n",
    "    def __init__(self, config: TrainingConfig):\n",
    "        self.config = config\n",
    "        \n",
    "    def get_base_model(self):\n",
    "        self.model = tf.keras.models.load_model(\n",
    "            self.config.updated_base_model_path\n",
    "        )\n",
    "        \n",
    "    def train_valid_generator(self):\n",
    "        \n",
    "        datagenerator_kwargs = dict(\n",
    "            rescale = 1./255,\n",
    "            validation_split=0.20\n",
    "        )\n",
    "        \n",
    "        dataflow_kwargs = dict(\n",
    "            target_size=self.config.params_image_size[:-1],\n",
    "            batch_size=self.config.params_batch_size,\n",
    "            interpolation=\"bilinear\"\n",
    "        )\n",
    "        \n",
    "        \n",
    "        valid_datagenerator = tf.keras.preprocessing.image.ImageDataGenerator(\n",
    "            **datagenerator_kwargs\n",
    "        )\n",
    "        \n",
    "        self.valid_generator = valid_datagenerator.flow_from_directory(\n",
    "            directory=self.config.training_data,\n",
    "            subset=\"validation\",\n",
    "            shuffle=False,\n",
    "            **dataflow_kwargs\n",
    "        )\n",
    "        \n",
    "        if self.config.params_is_augmentation:\n",
    "            train_datagenerator = tf.keras.preprocessing.image.ImageDataGenerator(\n",
    "                rotation_range=40,\n",
    "                horizontal_flip=True,\n",
    "                width_shift_range=0.2,\n",
    "                height_shift_range=0.2,\n",
    "                shear_range=0.2,\n",
    "                zoom_range=0.2,\n",
    "                **datagenerator_kwargs\n",
    "            )\n",
    "        else:\n",
    "            train_datagenerator = valid_datagenerator\n",
    "            \n",
    "        self.train_generator = train_datagenerator.flow_from_directory(\n",
    "            directory=self.config.training_data,\n",
    "            subset=\"training\",\n",
    "            shuffle=True,\n",
    "            **dataflow_kwargs\n",
    "        )\n",
    "        \n",
    "    @staticmethod\n",
    "    def save_model(path: Path, model: tf.keras.Model):\n",
    "        model.save(path)\n",
    "        \n",
    "    def train(self,callback_list: list):\n",
    "        self.steps_per_epoch = self.train_generator.samples // self.train_generator.batch_size\n",
    "        self.validation_steps = self.valid_generator.samples // self.valid_generator.batch_size\n",
    "        \n",
    "        self.model.fit(\n",
    "            self.train_generator,\n",
    "            steps_per_epoch=self.steps_per_epoch,\n",
    "            epochs=self.config.params_epochs,\n",
    "            validation_data=self.valid_generator,\n",
    "            validation_steps=self.validation_steps,\n",
    "            callbacks=callback_list\n",
    "        )\n",
    "        \n",
    "        self.save_model(\n",
    "            path = self.config.trained_model_path,\n",
    "            model = self.model\n",
    "        )"
   ]
  },
  {
   "cell_type": "code",
   "execution_count": 14,
   "metadata": {},
   "outputs": [
    {
     "name": "stdout",
     "output_type": "stream",
     "text": [
      "[2024-03-17 14:17:47,042: INFO: common: yaml file: config\\config.yaml loaded successfully]\n",
      "[2024-03-17 14:17:47,054: INFO: common: yaml file: params.yaml loaded successfully]\n",
      "[2024-03-17 14:17:47,061: INFO: common: created directory at: artifacts]\n",
      "[2024-03-17 14:17:47,064: INFO: common: created directory at: artifacts\\prepare_callbacks\\checkpoint_dir]\n",
      "[2024-03-17 14:17:47,068: INFO: common: created directory at: artifacts\\prepare_callbacks\\tensorboard_log_dir]\n",
      "[2024-03-17 14:17:47,077: INFO: common: created directory at: artifacts\\training]\n"
     ]
    },
    {
     "name": "stdout",
     "output_type": "stream",
     "text": [
      "Found 40 images belonging to 2 classes.\n",
      "Found 160 images belonging to 2 classes.\n",
      "Epoch 1/20\n",
      "10/10 [==============================] - 23s 2s/step - loss: 15.3687 - accuracy: 0.4875 - val_loss: 37.9038 - val_accuracy: 0.3750\n",
      "Epoch 2/20\n",
      "10/10 [==============================] - 20s 2s/step - loss: 19.2018 - accuracy: 0.4750 - val_loss: 35.4757 - val_accuracy: 0.3750\n",
      "Epoch 3/20\n",
      "10/10 [==============================] - 22s 2s/step - loss: 14.3417 - accuracy: 0.5562 - val_loss: 18.5726 - val_accuracy: 0.6250\n",
      "Epoch 4/20\n",
      "10/10 [==============================] - 22s 2s/step - loss: 18.2624 - accuracy: 0.4563 - val_loss: 16.0885 - val_accuracy: 0.6250\n",
      "Epoch 5/20\n",
      "10/10 [==============================] - 22s 2s/step - loss: 14.3123 - accuracy: 0.4938 - val_loss: 19.9278 - val_accuracy: 0.6250\n",
      "Epoch 6/20\n",
      "10/10 [==============================] - 21s 2s/step - loss: 10.0917 - accuracy: 0.6250 - val_loss: 11.6755 - val_accuracy: 0.6250\n",
      "Epoch 7/20\n",
      "10/10 [==============================] - 22s 2s/step - loss: 13.9881 - accuracy: 0.4875 - val_loss: 17.9447 - val_accuracy: 0.6250\n",
      "Epoch 8/20\n",
      "10/10 [==============================] - 21s 2s/step - loss: 8.1881 - accuracy: 0.6375 - val_loss: 3.9237 - val_accuracy: 0.6562\n",
      "Epoch 9/20\n",
      "10/10 [==============================] - 22s 2s/step - loss: 5.6266 - accuracy: 0.6562 - val_loss: 9.1619 - val_accuracy: 0.6250\n",
      "Epoch 10/20\n",
      "10/10 [==============================] - 24s 2s/step - loss: 8.9899 - accuracy: 0.6062 - val_loss: 9.2173 - val_accuracy: 0.6250\n",
      "Epoch 11/20\n",
      "10/10 [==============================] - 25s 2s/step - loss: 8.6038 - accuracy: 0.5625 - val_loss: 2.5776 - val_accuracy: 0.6875\n",
      "Epoch 12/20\n",
      "10/10 [==============================] - 23s 2s/step - loss: 8.3664 - accuracy: 0.6125 - val_loss: 2.4735 - val_accuracy: 0.6875\n",
      "Epoch 13/20\n",
      "10/10 [==============================] - 23s 2s/step - loss: 4.1292 - accuracy: 0.7437 - val_loss: 4.5847 - val_accuracy: 0.6250\n",
      "Epoch 14/20\n",
      "10/10 [==============================] - 23s 2s/step - loss: 8.0169 - accuracy: 0.6062 - val_loss: 5.2887 - val_accuracy: 0.6562\n",
      "Epoch 15/20\n",
      "10/10 [==============================] - 21s 2s/step - loss: 2.5929 - accuracy: 0.7812 - val_loss: 2.4322 - val_accuracy: 0.6875\n",
      "Epoch 16/20\n",
      "10/10 [==============================] - 24s 2s/step - loss: 2.6499 - accuracy: 0.7875 - val_loss: 3.6144 - val_accuracy: 0.6875\n",
      "Epoch 17/20\n",
      "10/10 [==============================] - 23s 2s/step - loss: 6.4405 - accuracy: 0.6438 - val_loss: 2.7630 - val_accuracy: 0.7188\n",
      "Epoch 18/20\n",
      "10/10 [==============================] - 25s 2s/step - loss: 5.1058 - accuracy: 0.6750 - val_loss: 4.1332 - val_accuracy: 0.5625\n",
      "Epoch 19/20\n",
      "10/10 [==============================] - 21s 2s/step - loss: 1.2310 - accuracy: 0.8500 - val_loss: 7.3931 - val_accuracy: 0.5000\n",
      "Epoch 20/20\n",
      "10/10 [==============================] - 21s 2s/step - loss: 4.1015 - accuracy: 0.7312 - val_loss: 5.6434 - val_accuracy: 0.5312\n"
     ]
    }
   ],
   "source": [
    "try:\n",
    "    config = ConfigurationManager()\n",
    "    prepare_callbacks_config = config.get_prepare_callback_config()\n",
    "    prepare_callbacks = PrepareCallback(config=prepare_callbacks_config)\n",
    "    callback_list = prepare_callbacks.get_tb_ckpt_callbacks()\n",
    "    \n",
    "    training_config = config.get_training_config()\n",
    "    training = Training(config= training_config)\n",
    "    training.get_base_model()\n",
    "    training.train_valid_generator()\n",
    "    training.train(\n",
    "        callback_list=callback_list\n",
    "    )\n",
    "    \n",
    "except Exception as e:\n",
    "    raise e"
   ]
  },
  {
   "cell_type": "code",
   "execution_count": null,
   "metadata": {},
   "outputs": [],
   "source": []
  },
  {
   "cell_type": "code",
   "execution_count": null,
   "metadata": {},
   "outputs": [],
   "source": []
  }
 ],
 "metadata": {
  "kernelspec": {
   "display_name": "crack",
   "language": "python",
   "name": "python3"
  },
  "language_info": {
   "codemirror_mode": {
    "name": "ipython",
    "version": 3
   },
   "file_extension": ".py",
   "mimetype": "text/x-python",
   "name": "python",
   "nbconvert_exporter": "python",
   "pygments_lexer": "ipython3",
   "version": "3.8.18"
  }
 },
 "nbformat": 4,
 "nbformat_minor": 2
}
